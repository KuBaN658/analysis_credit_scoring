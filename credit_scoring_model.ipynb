{
 "cells": [
  {
   "cell_type": "markdown",
   "id": "f86cc9cf-0040-4263-9d01-9d127e5ac132",
   "metadata": {},
   "source": [
    "# Исследование надежности заемщиков"
   ]
  },
  {
   "cell_type": "markdown",
   "id": "7d32020e-f748-41af-bf8e-2fe3a3373c49",
   "metadata": {},
   "source": [
    "## Описание проекта\n",
    "<p>Заказчик — кредитный отдел банка. Нужно разобраться, влияет ли семейное положение и количество детей клиента на факт погашения кредита в срок. Входные данные от банка — статистика о платёжеспособности клиентов.</p>\n",
    "<p>Результаты исследования будут учтены при построении модели кредитного скоринга — специальной системы, которая оценивает способность потенциального заёмщика вернуть кредит банку.</p>"
   ]
  },
  {
   "cell_type": "markdown",
   "id": "311de701-5592-4ede-bd17-836eb1e35d49",
   "metadata": {
    "tags": []
   },
   "source": [
    "### Описание данных<br>\n",
    "* `children` — количество детей в семье\n",
    "* `days_employed` — общий трудовой стаж в днях\n",
    "* `dob_years` — возраст клиента в годах\n",
    "* `education` — уровень образования клиента\n",
    "* `education_id` — идентификатор уровня образования\n",
    "* `family_status` — семейное положение\n",
    "* `family_status_id` — идентификатор семейного положения\n",
    "* `gender` — пол клиента\n",
    "* `income_type` — тип занятости\n",
    "* `debt` — имел ли задолженность по возврату кредитов\n",
    "* `total_income` — ежемесячный доход\n",
    "* `purpose` — цель получения кредита"
   ]
  },
  {
   "cell_type": "markdown",
   "id": "b2a78999-294b-4980-8397-a57473d3a214",
   "metadata": {},
   "source": [
    "## Считаем информацию и изучим общую информацию о данных"
   ]
  },
  {
   "cell_type": "code",
   "execution_count": 1,
   "id": "76bfd125-ac59-4414-b434-bffd1913c2e7",
   "metadata": {
    "tags": []
   },
   "outputs": [],
   "source": [
    "import pandas as pd\n",
    "import matplotlib.pyplot as plt\n",
    "import seaborn as sns\n",
    "import missingno as msno\n",
    "\n",
    "\n",
    "sns.set()\n",
    "\n",
    "pd.options.display.float_format ='{:,.2f}'.format\n",
    "\n",
    "data = pd.read_csv('data/data.csv')"
   ]
  },
  {
   "cell_type": "markdown",
   "id": "36325f7d-f507-46cc-b089-b0b0fae22c3d",
   "metadata": {},
   "source": [
    "**Выведим первые 10 строчек**"
   ]
  },
  {
   "cell_type": "code",
   "execution_count": 2,
   "id": "8e89adc4-2327-465c-af7f-075945641466",
   "metadata": {
    "tags": []
   },
   "outputs": [
    {
     "data": {
      "text/html": [
       "<div>\n",
       "<style scoped>\n",
       "    .dataframe tbody tr th:only-of-type {\n",
       "        vertical-align: middle;\n",
       "    }\n",
       "\n",
       "    .dataframe tbody tr th {\n",
       "        vertical-align: top;\n",
       "    }\n",
       "\n",
       "    .dataframe thead th {\n",
       "        text-align: right;\n",
       "    }\n",
       "</style>\n",
       "<table border=\"1\" class=\"dataframe\">\n",
       "  <thead>\n",
       "    <tr style=\"text-align: right;\">\n",
       "      <th></th>\n",
       "      <th>children</th>\n",
       "      <th>days_employed</th>\n",
       "      <th>dob_years</th>\n",
       "      <th>education</th>\n",
       "      <th>education_id</th>\n",
       "      <th>family_status</th>\n",
       "      <th>family_status_id</th>\n",
       "      <th>gender</th>\n",
       "      <th>income_type</th>\n",
       "      <th>debt</th>\n",
       "      <th>total_income</th>\n",
       "      <th>purpose</th>\n",
       "    </tr>\n",
       "  </thead>\n",
       "  <tbody>\n",
       "    <tr>\n",
       "      <th>0</th>\n",
       "      <td>1</td>\n",
       "      <td>-8,437.67</td>\n",
       "      <td>42</td>\n",
       "      <td>высшее</td>\n",
       "      <td>0</td>\n",
       "      <td>женат / замужем</td>\n",
       "      <td>0</td>\n",
       "      <td>F</td>\n",
       "      <td>сотрудник</td>\n",
       "      <td>0</td>\n",
       "      <td>253,875.64</td>\n",
       "      <td>покупка жилья</td>\n",
       "    </tr>\n",
       "    <tr>\n",
       "      <th>1</th>\n",
       "      <td>1</td>\n",
       "      <td>-4,024.80</td>\n",
       "      <td>36</td>\n",
       "      <td>среднее</td>\n",
       "      <td>1</td>\n",
       "      <td>женат / замужем</td>\n",
       "      <td>0</td>\n",
       "      <td>F</td>\n",
       "      <td>сотрудник</td>\n",
       "      <td>0</td>\n",
       "      <td>112,080.01</td>\n",
       "      <td>приобретение автомобиля</td>\n",
       "    </tr>\n",
       "    <tr>\n",
       "      <th>2</th>\n",
       "      <td>0</td>\n",
       "      <td>-5,623.42</td>\n",
       "      <td>33</td>\n",
       "      <td>Среднее</td>\n",
       "      <td>1</td>\n",
       "      <td>женат / замужем</td>\n",
       "      <td>0</td>\n",
       "      <td>M</td>\n",
       "      <td>сотрудник</td>\n",
       "      <td>0</td>\n",
       "      <td>145,885.95</td>\n",
       "      <td>покупка жилья</td>\n",
       "    </tr>\n",
       "    <tr>\n",
       "      <th>3</th>\n",
       "      <td>3</td>\n",
       "      <td>-4,124.75</td>\n",
       "      <td>32</td>\n",
       "      <td>среднее</td>\n",
       "      <td>1</td>\n",
       "      <td>женат / замужем</td>\n",
       "      <td>0</td>\n",
       "      <td>M</td>\n",
       "      <td>сотрудник</td>\n",
       "      <td>0</td>\n",
       "      <td>267,628.55</td>\n",
       "      <td>дополнительное образование</td>\n",
       "    </tr>\n",
       "    <tr>\n",
       "      <th>4</th>\n",
       "      <td>0</td>\n",
       "      <td>340,266.07</td>\n",
       "      <td>53</td>\n",
       "      <td>среднее</td>\n",
       "      <td>1</td>\n",
       "      <td>гражданский брак</td>\n",
       "      <td>1</td>\n",
       "      <td>F</td>\n",
       "      <td>пенсионер</td>\n",
       "      <td>0</td>\n",
       "      <td>158,616.08</td>\n",
       "      <td>сыграть свадьбу</td>\n",
       "    </tr>\n",
       "    <tr>\n",
       "      <th>5</th>\n",
       "      <td>0</td>\n",
       "      <td>-926.19</td>\n",
       "      <td>27</td>\n",
       "      <td>высшее</td>\n",
       "      <td>0</td>\n",
       "      <td>гражданский брак</td>\n",
       "      <td>1</td>\n",
       "      <td>M</td>\n",
       "      <td>компаньон</td>\n",
       "      <td>0</td>\n",
       "      <td>255,763.57</td>\n",
       "      <td>покупка жилья</td>\n",
       "    </tr>\n",
       "    <tr>\n",
       "      <th>6</th>\n",
       "      <td>0</td>\n",
       "      <td>-2,879.20</td>\n",
       "      <td>43</td>\n",
       "      <td>высшее</td>\n",
       "      <td>0</td>\n",
       "      <td>женат / замужем</td>\n",
       "      <td>0</td>\n",
       "      <td>F</td>\n",
       "      <td>компаньон</td>\n",
       "      <td>0</td>\n",
       "      <td>240,525.97</td>\n",
       "      <td>операции с жильем</td>\n",
       "    </tr>\n",
       "    <tr>\n",
       "      <th>7</th>\n",
       "      <td>0</td>\n",
       "      <td>-152.78</td>\n",
       "      <td>50</td>\n",
       "      <td>СРЕДНЕЕ</td>\n",
       "      <td>1</td>\n",
       "      <td>женат / замужем</td>\n",
       "      <td>0</td>\n",
       "      <td>M</td>\n",
       "      <td>сотрудник</td>\n",
       "      <td>0</td>\n",
       "      <td>135,823.93</td>\n",
       "      <td>образование</td>\n",
       "    </tr>\n",
       "    <tr>\n",
       "      <th>8</th>\n",
       "      <td>2</td>\n",
       "      <td>-6,929.87</td>\n",
       "      <td>35</td>\n",
       "      <td>ВЫСШЕЕ</td>\n",
       "      <td>0</td>\n",
       "      <td>гражданский брак</td>\n",
       "      <td>1</td>\n",
       "      <td>F</td>\n",
       "      <td>сотрудник</td>\n",
       "      <td>0</td>\n",
       "      <td>95,856.83</td>\n",
       "      <td>на проведение свадьбы</td>\n",
       "    </tr>\n",
       "    <tr>\n",
       "      <th>9</th>\n",
       "      <td>0</td>\n",
       "      <td>-2,188.76</td>\n",
       "      <td>41</td>\n",
       "      <td>среднее</td>\n",
       "      <td>1</td>\n",
       "      <td>женат / замужем</td>\n",
       "      <td>0</td>\n",
       "      <td>M</td>\n",
       "      <td>сотрудник</td>\n",
       "      <td>0</td>\n",
       "      <td>144,425.94</td>\n",
       "      <td>покупка жилья для семьи</td>\n",
       "    </tr>\n",
       "  </tbody>\n",
       "</table>\n",
       "</div>"
      ],
      "text/plain": [
       "   children  days_employed  dob_years education  education_id  \\\n",
       "0         1      -8,437.67         42    высшее             0   \n",
       "1         1      -4,024.80         36   среднее             1   \n",
       "2         0      -5,623.42         33   Среднее             1   \n",
       "3         3      -4,124.75         32   среднее             1   \n",
       "4         0     340,266.07         53   среднее             1   \n",
       "5         0        -926.19         27    высшее             0   \n",
       "6         0      -2,879.20         43    высшее             0   \n",
       "7         0        -152.78         50   СРЕДНЕЕ             1   \n",
       "8         2      -6,929.87         35    ВЫСШЕЕ             0   \n",
       "9         0      -2,188.76         41   среднее             1   \n",
       "\n",
       "      family_status  family_status_id gender income_type  debt  total_income  \\\n",
       "0   женат / замужем                 0      F   сотрудник     0    253,875.64   \n",
       "1   женат / замужем                 0      F   сотрудник     0    112,080.01   \n",
       "2   женат / замужем                 0      M   сотрудник     0    145,885.95   \n",
       "3   женат / замужем                 0      M   сотрудник     0    267,628.55   \n",
       "4  гражданский брак                 1      F   пенсионер     0    158,616.08   \n",
       "5  гражданский брак                 1      M   компаньон     0    255,763.57   \n",
       "6   женат / замужем                 0      F   компаньон     0    240,525.97   \n",
       "7   женат / замужем                 0      M   сотрудник     0    135,823.93   \n",
       "8  гражданский брак                 1      F   сотрудник     0     95,856.83   \n",
       "9   женат / замужем                 0      M   сотрудник     0    144,425.94   \n",
       "\n",
       "                      purpose  \n",
       "0               покупка жилья  \n",
       "1     приобретение автомобиля  \n",
       "2               покупка жилья  \n",
       "3  дополнительное образование  \n",
       "4             сыграть свадьбу  \n",
       "5               покупка жилья  \n",
       "6           операции с жильем  \n",
       "7                 образование  \n",
       "8       на проведение свадьбы  \n",
       "9     покупка жилья для семьи  "
      ]
     },
     "execution_count": 2,
     "metadata": {},
     "output_type": "execute_result"
    }
   ],
   "source": [
    "data.head(10)"
   ]
  },
  {
   "cell_type": "markdown",
   "id": "f32d11a5-7f8d-4fbe-9304-40802ddfd0c5",
   "metadata": {
    "tags": []
   },
   "source": [
    "**В колонке `days_employed` есть отрицательные значения, а в колонке `education` одинаковые категории записаны в разном регистре, давайте сразу исправим это**"
   ]
  },
  {
   "cell_type": "code",
   "execution_count": 3,
   "id": "b396f294-79cb-4557-ab78-adb801d88359",
   "metadata": {
    "tags": []
   },
   "outputs": [],
   "source": [
    "data['days_employed'] = data['days_employed'].abs()\n",
    "data['education'] = data['education'].str.lower()"
   ]
  },
  {
   "cell_type": "markdown",
   "id": "a4562cfa-22f3-41be-8782-6e5064554597",
   "metadata": {
    "tags": []
   },
   "source": [
    "**Посмотрим общую информацию о датафрейме**"
   ]
  },
  {
   "cell_type": "code",
   "execution_count": 4,
   "id": "ee1272f9-5ef8-47e7-ba8e-9fe9a74dd366",
   "metadata": {
    "tags": []
   },
   "outputs": [
    {
     "name": "stdout",
     "output_type": "stream",
     "text": [
      "<class 'pandas.core.frame.DataFrame'>\n",
      "RangeIndex: 21525 entries, 0 to 21524\n",
      "Data columns (total 12 columns):\n",
      " #   Column            Non-Null Count  Dtype  \n",
      "---  ------            --------------  -----  \n",
      " 0   children          21525 non-null  int64  \n",
      " 1   days_employed     19351 non-null  float64\n",
      " 2   dob_years         21525 non-null  int64  \n",
      " 3   education         21525 non-null  object \n",
      " 4   education_id      21525 non-null  int64  \n",
      " 5   family_status     21525 non-null  object \n",
      " 6   family_status_id  21525 non-null  int64  \n",
      " 7   gender            21525 non-null  object \n",
      " 8   income_type       21525 non-null  object \n",
      " 9   debt              21525 non-null  int64  \n",
      " 10  total_income      19351 non-null  float64\n",
      " 11  purpose           21525 non-null  object \n",
      "dtypes: float64(2), int64(5), object(5)\n",
      "memory usage: 2.0+ MB\n"
     ]
    }
   ],
   "source": [
    "data.info()"
   ]
  },
  {
   "cell_type": "markdown",
   "id": "beb2c658-f530-4716-9c4d-5b478e0f7a97",
   "metadata": {
    "tags": []
   },
   "source": [
    "**У нас есть пропущенные значения, посмотрим сколько их**"
   ]
  },
  {
   "cell_type": "code",
   "execution_count": 5,
   "id": "42fd7d9f-0f00-4540-8baf-483a22a2d857",
   "metadata": {
    "tags": []
   },
   "outputs": [
    {
     "data": {
      "text/plain": [
       "children               0\n",
       "days_employed       2174\n",
       "dob_years              0\n",
       "education              0\n",
       "education_id           0\n",
       "family_status          0\n",
       "family_status_id       0\n",
       "gender                 0\n",
       "income_type            0\n",
       "debt                   0\n",
       "total_income        2174\n",
       "purpose                0\n",
       "dtype: int64"
      ]
     },
     "execution_count": 5,
     "metadata": {},
     "output_type": "execute_result"
    }
   ],
   "source": [
    "data.isna().sum()"
   ]
  },
  {
   "cell_type": "markdown",
   "id": "b3ddb117-4b11-4e9a-9a4e-c1db5d6c34ab",
   "metadata": {},
   "source": [
    "**Визуализируем количество пропущенных значений по столбцам**"
   ]
  },
  {
   "cell_type": "code",
   "execution_count": 6,
   "id": "e40115db-23ad-4977-a862-4fc93b4e7cc1",
   "metadata": {
    "tags": []
   },
   "outputs": [
    {
     "data": {
      "image/png": "[encoded data removed]",
      "text/plain": [
       "<Figure size 2400x1000 with 3 Axes>"
      ]
     },
     "metadata": {},
     "output_type": "display_data"
    }
   ],
   "source": [
    "msno.bar(data)\n",
    "plt.show()"
   ]
  },
  {
   "cell_type": "markdown",
   "id": "77386fb1-db5a-41d1-8e9b-42c5131d960c",
   "metadata": {
    "tags": []
   },
   "source": [
    "**Посмотрим насколько сильно отсутствие значения в одном столбце влияет на отсутствие в другом**"
   ]
  },
  {
   "cell_type": "code",
   "execution_count": 7,
   "id": "39f0e721-c6cb-4489-94f3-e85aa8969eef",
   "metadata": {
    "tags": []
   },
   "outputs": [
    {
     "data": {
      "text/html": [
       "<div>\n",
       "<style scoped>\n",
       "    .dataframe tbody tr th:only-of-type {\n",
       "        vertical-align: middle;\n",
       "    }\n",
       "\n",
       "    .dataframe tbody tr th {\n",
       "        vertical-align: top;\n",
       "    }\n",
       "\n",
       "    .dataframe thead th {\n",
       "        text-align: right;\n",
       "    }\n",
       "</style>\n",
       "<table border=\"1\" class=\"dataframe\">\n",
       "  <thead>\n",
       "    <tr style=\"text-align: right;\">\n",
       "      <th></th>\n",
       "      <th>days_employed</th>\n",
       "      <th>total_income</th>\n",
       "    </tr>\n",
       "  </thead>\n",
       "  <tbody>\n",
       "    <tr>\n",
       "      <th>days_employed</th>\n",
       "      <td>1.00</td>\n",
       "      <td>1.00</td>\n",
       "    </tr>\n",
       "    <tr>\n",
       "      <th>total_income</th>\n",
       "      <td>1.00</td>\n",
       "      <td>1.00</td>\n",
       "    </tr>\n",
       "  </tbody>\n",
       "</table>\n",
       "</div>"
      ],
      "text/plain": [
       "               days_employed  total_income\n",
       "days_employed           1.00          1.00\n",
       "total_income            1.00          1.00"
      ]
     },
     "execution_count": 7,
     "metadata": {},
     "output_type": "execute_result"
    }
   ],
   "source": [
    "data[['days_employed', 'total_income']].isna().corr()"
   ]
  },
  {
   "cell_type": "markdown",
   "id": "0e4318a1-eb29-42e4-9f73-f6ced8f20f35",
   "metadata": {
    "tags": []
   },
   "source": [
    "Как мы видим корреляция равна 1, значит пропущенные значения в обоих столбцах совпадают."
   ]
  },
  {
   "cell_type": "markdown",
   "id": "0073572a-35b6-4edf-903b-02415efd9244",
   "metadata": {},
   "source": [
    "## Предобработка данных"
   ]
  },
  {
   "cell_type": "markdown",
   "id": "51e7bc1c-863d-470c-95ef-6bd629bacf39",
   "metadata": {},
   "source": [
    "### Удаление пропусков"
   ]
  },
  {
   "cell_type": "markdown",
   "id": "362d0c05-7323-4c5f-b001-6e312ef8465b",
   "metadata": {},
   "source": [
    "Столбец `total_income`, хранящий данные о доходах, содержит в себе пропущенные значения. На сумму дохода сильнее всего влияет тип занятости, поэтому заполнить пропуски в этом столбце нужно медианным значением по каждому типу из столбца `income_type`."
   ]
  },
  {
   "cell_type": "markdown",
   "id": "ccbb00ef-6626-4c14-a8d1-94cbb1b0b1bb",
   "metadata": {},
   "source": [
    "Посмотрим медианные значения по каждому типу занятости"
   ]
  },
  {
   "cell_type": "code",
   "execution_count": 8,
   "id": "70823346-f63a-48f4-b4fd-db06519377e0",
   "metadata": {
    "tags": []
   },
   "outputs": [
    {
     "data": {
      "text/plain": [
       "income_type\n",
       "безработный       131,339.75\n",
       "в декрете          53,829.13\n",
       "госслужащий       150,447.94\n",
       "компаньон         172,357.95\n",
       "пенсионер         118,514.49\n",
       "предприниматель   499,163.14\n",
       "сотрудник         142,594.40\n",
       "студент            98,201.63\n",
       "Name: total_income, dtype: float64"
      ]
     },
     "execution_count": 8,
     "metadata": {},
     "output_type": "execute_result"
    }
   ],
   "source": [
    "data.groupby('income_type').total_income.median()\n"
   ]
  },
  {
   "cell_type": "markdown",
   "id": "9c461652-7a9c-4889-a9cc-f1bbb1f5aedb",
   "metadata": {
    "tags": []
   },
   "source": [
    "Странно что у безрабтных доход выше чем у пенсионеров"
   ]
  },
  {
   "cell_type": "markdown",
   "id": "acd22837-75a3-463b-b2d7-81a0358d1924",
   "metadata": {},
   "source": [
    "**Посмотрим сколько наблюдений в каждой категории**"
   ]
  },
  {
   "cell_type": "code",
   "execution_count": 9,
   "id": "8029f2c6-b8c8-4d40-a623-fa88676359d3",
   "metadata": {
    "tags": []
   },
   "outputs": [
    {
     "data": {
      "text/plain": [
       "income_type\n",
       "сотрудник          11119\n",
       "компаньон           5085\n",
       "пенсионер           3856\n",
       "госслужащий         1459\n",
       "безработный            2\n",
       "предприниматель        2\n",
       "в декрете              1\n",
       "студент                1\n",
       "Name: income_type, dtype: int64"
      ]
     },
     "execution_count": 9,
     "metadata": {},
     "output_type": "execute_result"
    }
   ],
   "source": [
    "income_type_cat = data.groupby('income_type').income_type.count().sort_values(ascending=False)\n",
    "income_type_cat"
   ]
  },
  {
   "cell_type": "markdown",
   "id": "b23a1071-ba40-40b7-8eaa-73357e9e68ba",
   "metadata": {},
   "source": [
    "**Есть малочисленные категории, которые для нас не несут никакой информации, удалим их**"
   ]
  },
  {
   "cell_type": "code",
   "execution_count": 10,
   "id": "46eb0f1d-6b8b-4de5-b766-bbe7e02249d2",
   "metadata": {
    "tags": []
   },
   "outputs": [],
   "source": [
    "data = data[~data.income_type.isin(income_type_cat.index[4:])]"
   ]
  },
  {
   "cell_type": "markdown",
   "id": "c4d13fe1-19b4-4a84-9a2e-e8628330bb85",
   "metadata": {
    "tags": []
   },
   "source": [
    "**Заполним пропуски медианными значениями**"
   ]
  },
  {
   "cell_type": "code",
   "execution_count": 11,
   "id": "1d566aff-5162-4778-95e5-3b03f3aba92c",
   "metadata": {
    "tags": []
   },
   "outputs": [],
   "source": [
    "median_income = data.groupby('income_type').total_income.transform('median')\n",
    "data.total_income.fillna(median_income, inplace=True)"
   ]
  },
  {
   "cell_type": "markdown",
   "id": "1e8fa6b2-4ec0-4f67-b995-6630e70b3436",
   "metadata": {},
   "source": [
    "**Заполним пропуски в столбце `days_employed` медианными значениями по каждому типу занятости `income_type`.**"
   ]
  },
  {
   "cell_type": "markdown",
   "id": "e77bd319-8598-4e9c-9bc9-99efabdf2263",
   "metadata": {},
   "source": [
    "Посмотрим медианные значения по каждому типу занятости"
   ]
  },
  {
   "cell_type": "code",
   "execution_count": 12,
   "id": "d938aac5-b9ff-4d0a-ba70-268baa69a0f2",
   "metadata": {
    "tags": []
   },
   "outputs": [
    {
     "data": {
      "text/plain": [
       "income_type\n",
       "госслужащий     2,689.37\n",
       "компаньон       1,547.38\n",
       "пенсионер     365,213.31\n",
       "сотрудник       1,574.20\n",
       "Name: days_employed, dtype: float64"
      ]
     },
     "execution_count": 12,
     "metadata": {},
     "output_type": "execute_result"
    }
   ],
   "source": [
    "data.groupby('income_type').days_employed.median()"
   ]
  },
  {
   "cell_type": "code",
   "execution_count": 13,
   "id": "58f47cf8-e32d-485e-83f0-a9c96d8869a2",
   "metadata": {
    "tags": []
   },
   "outputs": [
    {
     "data": {
      "image/png": "[encoded data removed]",
      "text/plain": [
       "<Figure size 640x480 with 1 Axes>"
      ]
     },
     "metadata": {},
     "output_type": "display_data"
    }
   ],
   "source": [
    "sns.histplot(data.days_employed, bins=30)\n",
    "plt.show()"
   ]
  },
  {
   "cell_type": "markdown",
   "id": "7e30ce92-f63e-4869-8b94-b2562d197a36",
   "metadata": {},
   "source": [
    "У нас есть аномальные значения, надо это исправить."
   ]
  },
  {
   "cell_type": "markdown",
   "id": "c2eb6a24-e6f8-47c6-a561-1b4bc8cf2a0c",
   "metadata": {},
   "source": [
    "**Аномальные значение заполним `None`**"
   ]
  },
  {
   "cell_type": "code",
   "execution_count": 14,
   "id": "65bdd95d-ef3f-4a1b-a6aa-9e57a0efa639",
   "metadata": {
    "tags": []
   },
   "outputs": [],
   "source": [
    "data.loc[data.days_employed > 300_000, 'days_employed'] = None"
   ]
  },
  {
   "cell_type": "markdown",
   "id": "f457b73b-0c44-4883-acd3-64a63466b31a",
   "metadata": {},
   "source": [
    "**Посмотрим распределение возраста**"
   ]
  },
  {
   "cell_type": "code",
   "execution_count": 15,
   "id": "e6566116-083e-431a-a8e0-c736a8630ff9",
   "metadata": {
    "tags": []
   },
   "outputs": [
    {
     "data": {
      "image/png": "[encoded data removed]",
      "text/plain": [
       "<Figure size 640x480 with 1 Axes>"
      ]
     },
     "metadata": {},
     "output_type": "display_data"
    }
   ],
   "source": [
    "sns.histplot(data.dob_years, bins=25)\n",
    "plt.show()"
   ]
  },
  {
   "cell_type": "code",
   "execution_count": 16,
   "id": "3506c46f-8b55-4c76-95d9-5c53bd093482",
   "metadata": {
    "tags": []
   },
   "outputs": [
    {
     "data": {
      "text/plain": [
       "101"
      ]
     },
     "execution_count": 16,
     "metadata": {},
     "output_type": "execute_result"
    }
   ],
   "source": [
    "data[data.dob_years == 0].shape[0]"
   ]
  },
  {
   "cell_type": "markdown",
   "id": "cff27abe-131f-4eb1-b470-572c8ebf2484",
   "metadata": {},
   "source": [
    "**Есть наблюдения с возрастом 0, удалим их**"
   ]
  },
  {
   "cell_type": "code",
   "execution_count": 17,
   "id": "aba45260-9770-4738-abda-dae1549872df",
   "metadata": {
    "tags": []
   },
   "outputs": [],
   "source": [
    "data = data[data.dob_years != 0]"
   ]
  },
  {
   "cell_type": "markdown",
   "id": "30254364-6819-4aba-b3c4-7db562f32183",
   "metadata": {},
   "source": [
    "**Создадим новый столбец - `age_cat`**"
   ]
  },
  {
   "cell_type": "code",
   "execution_count": 18,
   "id": "d523bdb9-a11f-47fc-a60c-d677252c57e8",
   "metadata": {
    "tags": []
   },
   "outputs": [],
   "source": [
    "data['age_cat'] = pd.cut(data.dob_years, 6, precision=0)"
   ]
  },
  {
   "cell_type": "markdown",
   "id": "31600be1-790d-4532-9beb-e8f1a5523818",
   "metadata": {},
   "source": [
    "**Заполним все пропущенные значения медианой по `age_cat`**"
   ]
  },
  {
   "cell_type": "code",
   "execution_count": 19,
   "id": "1163fd64-c940-4048-bab0-169558807947",
   "metadata": {
    "tags": []
   },
   "outputs": [],
   "source": [
    "days_employed_median = data.groupby('age_cat').days_employed.transform('median')"
   ]
  },
  {
   "cell_type": "code",
   "execution_count": 20,
   "id": "4dec43cc-a6c1-4b83-8f9a-90d8d968c5f8",
   "metadata": {
    "tags": []
   },
   "outputs": [],
   "source": [
    "data.days_employed.fillna(days_employed_median, inplace=True)"
   ]
  },
  {
   "cell_type": "code",
   "execution_count": 21,
   "id": "fb2f6ea4-c4c6-4317-8b04-c6f4e8433396",
   "metadata": {
    "tags": []
   },
   "outputs": [
    {
     "data": {
      "text/plain": [
       "income_type\n",
       "госслужащий   2,421.05\n",
       "компаньон     1,577.54\n",
       "пенсионер     2,430.06\n",
       "сотрудник     1,607.23\n",
       "Name: days_employed, dtype: float64"
      ]
     },
     "execution_count": 21,
     "metadata": {},
     "output_type": "execute_result"
    }
   ],
   "source": [
    "data.groupby('income_type').days_employed.median()"
   ]
  },
  {
   "cell_type": "markdown",
   "id": "63a7ed39-3e4c-4d8e-b249-b5f3eb6b9119",
   "metadata": {},
   "source": [
    "### Обработка аномальных значений"
   ]
  },
  {
   "cell_type": "markdown",
   "id": "a4787c91-bd9d-4531-8329-87a94619abcb",
   "metadata": {},
   "source": [
    "**Посмотрим уникалные значения столбца `children`**"
   ]
  },
  {
   "cell_type": "code",
   "execution_count": 22,
   "id": "d40717dc-ef5a-4088-bd1e-cdede2c797eb",
   "metadata": {
    "tags": []
   },
   "outputs": [
    {
     "data": {
      "text/plain": [
       "children\n",
       " 0     14076\n",
       " 1      4801\n",
       " 2      2041\n",
       " 3       328\n",
       " 20       75\n",
       "-1        47\n",
       " 4        41\n",
       " 5         9\n",
       "Name: count, dtype: int64"
      ]
     },
     "execution_count": 22,
     "metadata": {},
     "output_type": "execute_result"
    }
   ],
   "source": [
    "data['children'].value_counts()"
   ]
  },
  {
   "cell_type": "markdown",
   "id": "13748a60-af87-45b8-b1b5-520e2ac192c2",
   "metadata": {},
   "source": [
    "**У нас есть аномальные значения(-1 и 20), но этих строчек немного — удалим их.**"
   ]
  },
  {
   "cell_type": "code",
   "execution_count": 23,
   "id": "d2d43e7a-c224-4d44-b367-68b961dbebc0",
   "metadata": {
    "tags": []
   },
   "outputs": [
    {
     "data": {
      "text/plain": [
       "array([1, 0, 3, 2, 4, 5], dtype=int64)"
      ]
     },
     "execution_count": 23,
     "metadata": {},
     "output_type": "execute_result"
    }
   ],
   "source": [
    "data = data[~data.children.isin((-1, 20))]\n",
    "data.children.unique()"
   ]
  },
  {
   "cell_type": "markdown",
   "id": "2b53452e-f557-472a-8bae-3f4f386780d7",
   "metadata": {},
   "source": [
    "Теперь все в порядке"
   ]
  },
  {
   "cell_type": "markdown",
   "id": "16253d74-9816-4a7b-81fe-45ed21e15240",
   "metadata": {
    "tags": []
   },
   "source": [
    "**Убедимся что все пропуски отсутствуют**"
   ]
  },
  {
   "cell_type": "code",
   "execution_count": 24,
   "id": "dd74e42e-3bd8-4d05-9618-8b16badf70de",
   "metadata": {
    "tags": []
   },
   "outputs": [
    {
     "data": {
      "text/plain": [
       "children            0\n",
       "days_employed       0\n",
       "dob_years           0\n",
       "education           0\n",
       "education_id        0\n",
       "family_status       0\n",
       "family_status_id    0\n",
       "gender              0\n",
       "income_type         0\n",
       "debt                0\n",
       "total_income        0\n",
       "purpose             0\n",
       "age_cat             0\n",
       "dtype: int64"
      ]
     },
     "execution_count": 24,
     "metadata": {},
     "output_type": "execute_result"
    }
   ],
   "source": [
    "data.isna().sum()"
   ]
  },
  {
   "cell_type": "markdown",
   "id": "56f65433-abdf-466d-9f6b-c1e519c2d3af",
   "metadata": {
    "tags": []
   },
   "source": [
    "### Изменение типов данных"
   ]
  },
  {
   "cell_type": "markdown",
   "id": "9b5f52f5-58ba-403c-8e84-563abf1674c0",
   "metadata": {},
   "source": [
    "**Заменим вещественный тип данных в столбце `total_income` на целочисленный**"
   ]
  },
  {
   "cell_type": "code",
   "execution_count": 25,
   "id": "cf359678-c16e-41de-923e-8eaf25fd182b",
   "metadata": {
    "tags": []
   },
   "outputs": [],
   "source": [
    "data['total_income'] = data['total_income'].astype(int)"
   ]
  },
  {
   "cell_type": "markdown",
   "id": "66f4c0ed-9811-45af-af47-037e25fb845b",
   "metadata": {},
   "source": [
    "### Категоризация данных"
   ]
  },
  {
   "cell_type": "markdown",
   "id": "4dfe7e90-0e54-4276-a4de-011b523169f7",
   "metadata": {},
   "source": [
    "**Создадим в датафрейме `data` столбец `total_income_category`, на основании признака `total_income`, с категориями:**\n",
    "\n",
    "- 0–80000 — `'Низкий'`;\n",
    "- 80001–180000 — `'Средний'`;\n",
    "- 180000 и выше — `'Высокий'`;"
   ]
  },
  {
   "cell_type": "code",
   "execution_count": 26,
   "id": "f552d83d-fa87-497c-b769-7e069591b50e",
   "metadata": {
    "tags": []
   },
   "outputs": [],
   "source": [
    "def categorize_income(income):\n",
    "        if 0 <= income <= 80000:\n",
    "            return 'Низкий'\n",
    "        elif 80001 <= income <= 180000:\n",
    "            return 'Средний'\n",
    "        elif income >= 180001:\n",
    "            return 'Высокий'"
   ]
  },
  {
   "cell_type": "code",
   "execution_count": 27,
   "id": "4dc6486b-a468-441f-92b3-8f6c91719936",
   "metadata": {
    "tags": []
   },
   "outputs": [],
   "source": [
    "data['total_income_category'] = data['total_income'].apply(categorize_income)"
   ]
  },
  {
   "cell_type": "markdown",
   "id": "700c1896-468f-4800-951c-8589e97eadf1",
   "metadata": {},
   "source": [
    "**Выведим на экран перечень уникальных целей взятия кредита из столбца `purpose`**"
   ]
  },
  {
   "cell_type": "code",
   "execution_count": 28,
   "id": "4098f1c6-3d7b-45cc-a25e-fe6fd61078d7",
   "metadata": {
    "tags": []
   },
   "outputs": [
    {
     "data": {
      "text/plain": [
       "array(['покупка жилья', 'приобретение автомобиля',\n",
       "       'дополнительное образование', 'сыграть свадьбу',\n",
       "       'операции с жильем', 'образование', 'на проведение свадьбы',\n",
       "       'покупка жилья для семьи', 'покупка недвижимости',\n",
       "       'покупка коммерческой недвижимости', 'покупка жилой недвижимости',\n",
       "       'строительство собственной недвижимости', 'недвижимость',\n",
       "       'строительство недвижимости', 'на покупку подержанного автомобиля',\n",
       "       'на покупку своего автомобиля',\n",
       "       'операции с коммерческой недвижимостью',\n",
       "       'строительство жилой недвижимости', 'жилье',\n",
       "       'операции со своей недвижимостью', 'автомобили',\n",
       "       'заняться образованием', 'сделка с подержанным автомобилем',\n",
       "       'получение образования', 'автомобиль', 'свадьба',\n",
       "       'получение дополнительного образования', 'покупка своего жилья',\n",
       "       'операции с недвижимостью', 'получение высшего образования',\n",
       "       'свой автомобиль', 'сделка с автомобилем',\n",
       "       'профильное образование', 'высшее образование',\n",
       "       'покупка жилья для сдачи', 'на покупку автомобиля', 'ремонт жилью',\n",
       "       'заняться высшим образованием'], dtype=object)"
      ]
     },
     "execution_count": 28,
     "metadata": {},
     "output_type": "execute_result"
    }
   ],
   "source": [
    "data['purpose'].unique()"
   ]
  },
  {
   "cell_type": "markdown",
   "id": "cc1540be-cc0a-4c90-8625-713a964d031e",
   "metadata": {},
   "source": [
    "**Создадим функцию, которая на основании данных из столбца `purpose` сформирует новый столбец `purpose_category`, в который войдут следующие категории:**\n",
    "\n",
    "- `'операции с автомобилем'`,\n",
    "- `'операции с недвижимостью'`,\n",
    "- `'проведение свадьбы'`,\n",
    "- `'получение образования'`."
   ]
  },
  {
   "cell_type": "code",
   "execution_count": 29,
   "id": "ce61b071-0aeb-4f34-95e0-7224fcd1e836",
   "metadata": {
    "tags": []
   },
   "outputs": [],
   "source": [
    "def categorize_purpose(row):\n",
    "    try:\n",
    "        if 'автом' in row:\n",
    "            return 'операции с автомобилем'\n",
    "        elif 'жил' in row or 'недвиж' in row:\n",
    "            return 'операции с недвижимостью'\n",
    "        elif 'свад' in row:\n",
    "            return 'проведение свадьбы'\n",
    "        elif 'образов' in row:\n",
    "            return 'получение образования'\n",
    "    except:\n",
    "        print(f'Предупреждение!!! мы получили неизвестную ранее категорию - {row}')\n",
    "        return 'нет категории'"
   ]
  },
  {
   "cell_type": "code",
   "execution_count": 30,
   "id": "d9ff1299-9b52-4098-9e0a-198ee8228aba",
   "metadata": {
    "tags": []
   },
   "outputs": [],
   "source": [
    "data['purpose_category'] = data['purpose'].apply(categorize_purpose)"
   ]
  },
  {
   "cell_type": "markdown",
   "id": "270c2956-4232-4fa4-9812-2bb5c55f523b",
   "metadata": {
    "tags": []
   },
   "source": [
    "## Исследование данных"
   ]
  },
  {
   "cell_type": "markdown",
   "id": "cd1620f4-cddb-47a7-8f63-669549694b8f",
   "metadata": {
    "tags": []
   },
   "source": [
    "**Посмотрим общую долю задержек по кредитам**"
   ]
  },
  {
   "cell_type": "code",
   "execution_count": 31,
   "id": "13a75602-a32a-4d0d-8f67-2a07c6cf755a",
   "metadata": {
    "tags": []
   },
   "outputs": [
    {
     "name": "stdout",
     "output_type": "stream",
     "text": [
      "Процент задержек по кредитам - 8.09%\n"
     ]
    }
   ],
   "source": [
    "print(f'Процент задержек по кредитам - {data.debt.mean():.2%}')"
   ]
  },
  {
   "cell_type": "markdown",
   "id": "b027358f-da6a-4b94-9861-894ef412aedd",
   "metadata": {},
   "source": [
    "**Напишем необходимые функции для визуализации**"
   ]
  },
  {
   "cell_type": "code",
   "execution_count": 33,
   "id": "56ea8725-b6d1-4081-9aea-e97bbbb82e1a",
   "metadata": {
    "tags": []
   },
   "outputs": [],
   "source": [
    "def bar_plot(data, col_name, *, title='', xlabel='', ylabel='count', target='debt', size=[15, 5]):    \n",
    "    plt.rcParams['figure.figsize'] = size\n",
    "    sns.countplot(data=data, x=col_name, hue=target)\n",
    "    plt.title(title)\n",
    "    plt.xlabel(xlabel)\n",
    "    plt.ylabel(ylabel)\n",
    "    plt.show()\n",
    "    \n",
    "def pivot_table_calc(data, col_name, target='debt'):\n",
    "    pivot_table = data.pivot_table(index=col_name, values=target, aggfunc=['count', 'sum', 'mean'])\n",
    "    pivot_table.columns = ('Всего кредитополучателей', \n",
    "                           'Всего должников', \n",
    "                           'Доля должников')\n",
    "    display(pivot_table.style.format(\"{:.2%}\", \n",
    "                                     subset=['Доля должников']\n",
    "                                    ).background_gradient(cmap='Reds', \n",
    "                                                          subset=['Доля должников'] , \n",
    "                                                          axis=0)\n",
    "           )"
   ]
  },
  {
   "cell_type": "markdown",
   "id": "ca9d9445-6e44-4313-b3c1-85a03fa4f308",
   "metadata": {
    "tags": []
   },
   "source": [
    "#### Есть ли зависимость между количеством детей и возвратом кредита в срок?"
   ]
  },
  {
   "cell_type": "code",
   "execution_count": 34,
   "id": "2a02ce83-b3b2-48f7-947f-370cf2124a0c",
   "metadata": {
    "tags": []
   },
   "outputs": [
    {
     "data": {
      "image/png": "[encoded data removed]",
      "text/plain": [
       "<Figure size 1500x500 with 1 Axes>"
      ]
     },
     "metadata": {},
     "output_type": "display_data"
    }
   ],
   "source": [
    "bar_plot(data, 'children', \n",
    "         title='Зависимость просрочек кредита от количества детей',\n",
    "         xlabel='Дети',\n",
    "         ylabel='Количество'\n",
    "        )"
   ]
  },
  {
   "cell_type": "code",
   "execution_count": 35,
   "id": "4f759965-2616-430d-a5bc-94446800eb1a",
   "metadata": {
    "tags": []
   },
   "outputs": [
    {
     "data": {
      "text/html": [
       "<style type=\"text/css\">\n",
       "#T_49bab_row0_col2 {\n",
       "  background-color: #c4161c;\n",
       "  color: #f1f1f1;\n",
       "}\n",
       "#T_49bab_row1_col2 {\n",
       "  background-color: #840711;\n",
       "  color: #f1f1f1;\n",
       "}\n",
       "#T_49bab_row2_col2 {\n",
       "  background-color: #75030f;\n",
       "  color: #f1f1f1;\n",
       "}\n",
       "#T_49bab_row3_col2 {\n",
       "  background-color: #ad1117;\n",
       "  color: #f1f1f1;\n",
       "}\n",
       "#T_49bab_row4_col2 {\n",
       "  background-color: #67000d;\n",
       "  color: #f1f1f1;\n",
       "}\n",
       "#T_49bab_row5_col2 {\n",
       "  background-color: #fff5f0;\n",
       "  color: #000000;\n",
       "}\n",
       "</style>\n",
       "<table id=\"T_49bab\">\n",
       "  <thead>\n",
       "    <tr>\n",
       "      <th class=\"blank level0\" >&nbsp;</th>\n",
       "      <th id=\"T_49bab_level0_col0\" class=\"col_heading level0 col0\" >Всего кредитополучателей</th>\n",
       "      <th id=\"T_49bab_level0_col1\" class=\"col_heading level0 col1\" >Всего должников</th>\n",
       "      <th id=\"T_49bab_level0_col2\" class=\"col_heading level0 col2\" >Доля должников</th>\n",
       "    </tr>\n",
       "    <tr>\n",
       "      <th class=\"index_name level0\" >children</th>\n",
       "      <th class=\"blank col0\" >&nbsp;</th>\n",
       "      <th class=\"blank col1\" >&nbsp;</th>\n",
       "      <th class=\"blank col2\" >&nbsp;</th>\n",
       "    </tr>\n",
       "  </thead>\n",
       "  <tbody>\n",
       "    <tr>\n",
       "      <th id=\"T_49bab_level0_row0\" class=\"row_heading level0 row0\" >0</th>\n",
       "      <td id=\"T_49bab_row0_col0\" class=\"data row0 col0\" >14076</td>\n",
       "      <td id=\"T_49bab_row0_col1\" class=\"data row0 col1\" >1058</td>\n",
       "      <td id=\"T_49bab_row0_col2\" class=\"data row0 col2\" >7.52%</td>\n",
       "    </tr>\n",
       "    <tr>\n",
       "      <th id=\"T_49bab_level0_row1\" class=\"row_heading level0 row1\" >1</th>\n",
       "      <td id=\"T_49bab_row1_col0\" class=\"data row1 col0\" >4801</td>\n",
       "      <td id=\"T_49bab_row1_col1\" class=\"data row1 col1\" >440</td>\n",
       "      <td id=\"T_49bab_row1_col2\" class=\"data row1 col2\" >9.16%</td>\n",
       "    </tr>\n",
       "    <tr>\n",
       "      <th id=\"T_49bab_level0_row2\" class=\"row_heading level0 row2\" >2</th>\n",
       "      <td id=\"T_49bab_row2_col0\" class=\"data row2 col0\" >2041</td>\n",
       "      <td id=\"T_49bab_row2_col1\" class=\"data row2 col1\" >193</td>\n",
       "      <td id=\"T_49bab_row2_col2\" class=\"data row2 col2\" >9.46%</td>\n",
       "    </tr>\n",
       "    <tr>\n",
       "      <th id=\"T_49bab_level0_row3\" class=\"row_heading level0 row3\" >3</th>\n",
       "      <td id=\"T_49bab_row3_col0\" class=\"data row3 col0\" >328</td>\n",
       "      <td id=\"T_49bab_row3_col1\" class=\"data row3 col1\" >27</td>\n",
       "      <td id=\"T_49bab_row3_col2\" class=\"data row3 col2\" >8.23%</td>\n",
       "    </tr>\n",
       "    <tr>\n",
       "      <th id=\"T_49bab_level0_row4\" class=\"row_heading level0 row4\" >4</th>\n",
       "      <td id=\"T_49bab_row4_col0\" class=\"data row4 col0\" >41</td>\n",
       "      <td id=\"T_49bab_row4_col1\" class=\"data row4 col1\" >4</td>\n",
       "      <td id=\"T_49bab_row4_col2\" class=\"data row4 col2\" >9.76%</td>\n",
       "    </tr>\n",
       "    <tr>\n",
       "      <th id=\"T_49bab_level0_row5\" class=\"row_heading level0 row5\" >5</th>\n",
       "      <td id=\"T_49bab_row5_col0\" class=\"data row5 col0\" >9</td>\n",
       "      <td id=\"T_49bab_row5_col1\" class=\"data row5 col1\" >0</td>\n",
       "      <td id=\"T_49bab_row5_col2\" class=\"data row5 col2\" >0.00%</td>\n",
       "    </tr>\n",
       "  </tbody>\n",
       "</table>\n"
      ],
      "text/plain": [
       "<pandas.io.formats.style.Styler at 0x1cf836ae8f0>"
      ]
     },
     "metadata": {},
     "output_type": "display_data"
    }
   ],
   "source": [
    "pivot_table_calc(data, 'children')"
   ]
  },
  {
   "cell_type": "markdown",
   "id": "eda327f9-4c31-45bb-af38-dd3cd76e5167",
   "metadata": {
    "tags": []
   },
   "source": [
    "**Создадим новую переменную - `has_children`**"
   ]
  },
  {
   "cell_type": "code",
   "execution_count": 36,
   "id": "f1ecae6c-5e8b-4e78-954d-6acdbfea37eb",
   "metadata": {
    "tags": []
   },
   "outputs": [],
   "source": [
    "data['has_children'] = data.children.apply(lambda x: int(x > 0))"
   ]
  },
  {
   "cell_type": "code",
   "execution_count": 37,
   "id": "a7f14895-67fa-4af5-aeb8-b71a378684a7",
   "metadata": {
    "tags": []
   },
   "outputs": [
    {
     "data": {
      "text/html": [
       "<style type=\"text/css\">\n",
       "#T_1db45_row0_col2 {\n",
       "  background-color: #fff5f0;\n",
       "  color: #000000;\n",
       "}\n",
       "#T_1db45_row1_col2 {\n",
       "  background-color: #67000d;\n",
       "  color: #f1f1f1;\n",
       "}\n",
       "</style>\n",
       "<table id=\"T_1db45\">\n",
       "  <thead>\n",
       "    <tr>\n",
       "      <th class=\"blank level0\" >&nbsp;</th>\n",
       "      <th id=\"T_1db45_level0_col0\" class=\"col_heading level0 col0\" >Всего кредитополучателей</th>\n",
       "      <th id=\"T_1db45_level0_col1\" class=\"col_heading level0 col1\" >Всего должников</th>\n",
       "      <th id=\"T_1db45_level0_col2\" class=\"col_heading level0 col2\" >Доля должников</th>\n",
       "    </tr>\n",
       "    <tr>\n",
       "      <th class=\"index_name level0\" >has_children</th>\n",
       "      <th class=\"blank col0\" >&nbsp;</th>\n",
       "      <th class=\"blank col1\" >&nbsp;</th>\n",
       "      <th class=\"blank col2\" >&nbsp;</th>\n",
       "    </tr>\n",
       "  </thead>\n",
       "  <tbody>\n",
       "    <tr>\n",
       "      <th id=\"T_1db45_level0_row0\" class=\"row_heading level0 row0\" >0</th>\n",
       "      <td id=\"T_1db45_row0_col0\" class=\"data row0 col0\" >14076</td>\n",
       "      <td id=\"T_1db45_row0_col1\" class=\"data row0 col1\" >1058</td>\n",
       "      <td id=\"T_1db45_row0_col2\" class=\"data row0 col2\" >7.52%</td>\n",
       "    </tr>\n",
       "    <tr>\n",
       "      <th id=\"T_1db45_level0_row1\" class=\"row_heading level0 row1\" >1</th>\n",
       "      <td id=\"T_1db45_row1_col0\" class=\"data row1 col0\" >7220</td>\n",
       "      <td id=\"T_1db45_row1_col1\" class=\"data row1 col1\" >664</td>\n",
       "      <td id=\"T_1db45_row1_col2\" class=\"data row1 col2\" >9.20%</td>\n",
       "    </tr>\n",
       "  </tbody>\n",
       "</table>\n"
      ],
      "text/plain": [
       "<pandas.io.formats.style.Styler at 0x1cf836f73a0>"
      ]
     },
     "metadata": {},
     "output_type": "display_data"
    }
   ],
   "source": [
    "pivot_table_calc(data, 'has_children')"
   ]
  },
  {
   "cell_type": "markdown",
   "id": "9f801627-3356-4132-b981-59aef0f929dc",
   "metadata": {},
   "source": [
    "**Вывод:**<br>\n",
    "    <p>Мы можем увидеть что семьи имеющие пятеро детей, не имеют просрочек кредита, но этих наблюдений очень мало, поэтому мы не можем делать выводы относительно этих семей. В целом, по нашей выборке, семьи без детей имеют просрочек практически на 2 процента ниже, чем семьи с детьми. Поэтому мы можем выдвинуть гипотезу, что семья с детьми имеет большую вероятность просрочки кредита, чем семья без детей.</p>"
   ]
  },
  {
   "cell_type": "markdown",
   "id": "a1362951-dbfb-47da-8a49-7b1832e1f848",
   "metadata": {},
   "source": [
    "#### Есть ли зависимость между семейным положением и возвратом кредита в срок?"
   ]
  },
  {
   "cell_type": "code",
   "execution_count": 38,
   "id": "47aaabf6-cdf8-42cb-b74a-ea0387a40079",
   "metadata": {
    "tags": []
   },
   "outputs": [
    {
     "data": {
      "image/png": "[encoded data removed]",
      "text/plain": [
       "<Figure size 1500x500 with 1 Axes>"
      ]
     },
     "metadata": {},
     "output_type": "display_data"
    }
   ],
   "source": [
    "bar_plot(data, 'family_status', \n",
    "         title='Зависимость просрочек кредита от семейного положения',\n",
    "         xlabel='Семейное положение',\n",
    "         ylabel='Количество'\n",
    "        )"
   ]
  },
  {
   "cell_type": "code",
   "execution_count": 39,
   "id": "245abee1-02be-45be-a883-b0953f1cda12",
   "metadata": {
    "tags": []
   },
   "outputs": [
    {
     "data": {
      "text/html": [
       "<style type=\"text/css\">\n",
       "#T_c546f_row0_col2 {\n",
       "  background-color: #67000d;\n",
       "  color: #f1f1f1;\n",
       "}\n",
       "#T_c546f_row1_col2 {\n",
       "  background-color: #fdd1be;\n",
       "  color: #000000;\n",
       "}\n",
       "#T_c546f_row2_col2 {\n",
       "  background-color: #fff5f0;\n",
       "  color: #000000;\n",
       "}\n",
       "#T_c546f_row3_col2 {\n",
       "  background-color: #b01217;\n",
       "  color: #f1f1f1;\n",
       "}\n",
       "#T_c546f_row4_col2 {\n",
       "  background-color: #fcab8f;\n",
       "  color: #000000;\n",
       "}\n",
       "</style>\n",
       "<table id=\"T_c546f\">\n",
       "  <thead>\n",
       "    <tr>\n",
       "      <th class=\"blank level0\" >&nbsp;</th>\n",
       "      <th id=\"T_c546f_level0_col0\" class=\"col_heading level0 col0\" >Всего кредитополучателей</th>\n",
       "      <th id=\"T_c546f_level0_col1\" class=\"col_heading level0 col1\" >Всего должников</th>\n",
       "      <th id=\"T_c546f_level0_col2\" class=\"col_heading level0 col2\" >Доля должников</th>\n",
       "    </tr>\n",
       "    <tr>\n",
       "      <th class=\"index_name level0\" >family_status</th>\n",
       "      <th class=\"blank col0\" >&nbsp;</th>\n",
       "      <th class=\"blank col1\" >&nbsp;</th>\n",
       "      <th class=\"blank col2\" >&nbsp;</th>\n",
       "    </tr>\n",
       "  </thead>\n",
       "  <tbody>\n",
       "    <tr>\n",
       "      <th id=\"T_c546f_level0_row0\" class=\"row_heading level0 row0\" >Не женат / не замужем</th>\n",
       "      <td id=\"T_c546f_row0_col0\" class=\"data row0 col0\" >2782</td>\n",
       "      <td id=\"T_c546f_row0_col1\" class=\"data row0 col1\" >272</td>\n",
       "      <td id=\"T_c546f_row0_col2\" class=\"data row0 col2\" >9.78%</td>\n",
       "    </tr>\n",
       "    <tr>\n",
       "      <th id=\"T_c546f_level0_row1\" class=\"row_heading level0 row1\" >в разводе</th>\n",
       "      <td id=\"T_c546f_row1_col0\" class=\"data row1 col0\" >1179</td>\n",
       "      <td id=\"T_c546f_row1_col1\" class=\"data row1 col1\" >84</td>\n",
       "      <td id=\"T_c546f_row1_col2\" class=\"data row1 col2\" >7.12%</td>\n",
       "    </tr>\n",
       "    <tr>\n",
       "      <th id=\"T_c546f_level0_row2\" class=\"row_heading level0 row2\" >вдовец / вдова</th>\n",
       "      <td id=\"T_c546f_row2_col0\" class=\"data row2 col0\" >947</td>\n",
       "      <td id=\"T_c546f_row2_col1\" class=\"data row2 col1\" >62</td>\n",
       "      <td id=\"T_c546f_row2_col2\" class=\"data row2 col2\" >6.55%</td>\n",
       "    </tr>\n",
       "    <tr>\n",
       "      <th id=\"T_c546f_level0_row3\" class=\"row_heading level0 row3\" >гражданский брак</th>\n",
       "      <td id=\"T_c546f_row3_col0\" class=\"data row3 col0\" >4137</td>\n",
       "      <td id=\"T_c546f_row3_col1\" class=\"data row3 col1\" >383</td>\n",
       "      <td id=\"T_c546f_row3_col2\" class=\"data row3 col2\" >9.26%</td>\n",
       "    </tr>\n",
       "    <tr>\n",
       "      <th id=\"T_c546f_level0_row4\" class=\"row_heading level0 row4\" >женат / замужем</th>\n",
       "      <td id=\"T_c546f_row4_col0\" class=\"data row4 col0\" >12251</td>\n",
       "      <td id=\"T_c546f_row4_col1\" class=\"data row4 col1\" >921</td>\n",
       "      <td id=\"T_c546f_row4_col2\" class=\"data row4 col2\" >7.52%</td>\n",
       "    </tr>\n",
       "  </tbody>\n",
       "</table>\n"
      ],
      "text/plain": [
       "<pandas.io.formats.style.Styler at 0x1cf83898d00>"
      ]
     },
     "metadata": {},
     "output_type": "display_data"
    }
   ],
   "source": [
    "pivot_table_calc(data, 'family_status')"
   ]
  },
  {
   "cell_type": "markdown",
   "id": "9ead7169-d01a-4984-bb70-8b78d8eea07f",
   "metadata": {},
   "source": [
    "**Вывод:** \n",
    "<p>Мы можем выдвинуть гипотезу о том что процент просрочек по кредитам выше у проживающих в гражданском браке и у не женатых/не замужних, чем у клиентов находящихся в разводе, вдовцов/вдов и женатых/замужем.</p>"
   ]
  },
  {
   "cell_type": "markdown",
   "id": "34399cc7-328e-461f-a8fc-8092298bbaeb",
   "metadata": {},
   "source": [
    "#### Есть ли зависимость между уровнем дохода и возвратом кредита в срок?"
   ]
  },
  {
   "cell_type": "code",
   "execution_count": 40,
   "id": "178b862a-324c-4856-9ea2-7d5dede6a258",
   "metadata": {
    "tags": []
   },
   "outputs": [
    {
     "data": {
      "image/png": "[encoded data removed]",
      "text/plain": [
       "<Figure size 1500x500 with 1 Axes>"
      ]
     },
     "metadata": {},
     "output_type": "display_data"
    }
   ],
   "source": [
    "sns.histplot(data=data, x=data.total_income, bins=70)\n",
    "plt.grid()\n",
    "plt.title('Распределение месячного дохода')\n",
    "plt.xlabel('Месячный доход')\n",
    "plt.ylabel('')\n",
    "plt.show()"
   ]
  },
  {
   "cell_type": "markdown",
   "id": "e22465a8-367e-40b5-9212-6fa3b32ee424",
   "metadata": {},
   "source": [
    "**Разобьем на категории и построим сводную таблицу**"
   ]
  },
  {
   "cell_type": "code",
   "execution_count": 41,
   "id": "5266000b-320a-4da1-9aad-9300ff1690a5",
   "metadata": {
    "tags": []
   },
   "outputs": [
    {
     "data": {
      "text/html": [
       "<style type=\"text/css\">\n",
       "#T_036b4_row0_col2 {\n",
       "  background-color: #f85f43;\n",
       "  color: #f1f1f1;\n",
       "}\n",
       "#T_036b4_row1_col2 {\n",
       "  background-color: #67000d;\n",
       "  color: #f1f1f1;\n",
       "}\n",
       "#T_036b4_row2_col2 {\n",
       "  background-color: #fff5f0;\n",
       "  color: #000000;\n",
       "}\n",
       "</style>\n",
       "<table id=\"T_036b4\">\n",
       "  <thead>\n",
       "    <tr>\n",
       "      <th class=\"blank level0\" >&nbsp;</th>\n",
       "      <th id=\"T_036b4_level0_col0\" class=\"col_heading level0 col0\" >Всего кредитополучателей</th>\n",
       "      <th id=\"T_036b4_level0_col1\" class=\"col_heading level0 col1\" >Всего должников</th>\n",
       "      <th id=\"T_036b4_level0_col2\" class=\"col_heading level0 col2\" >Доля должников</th>\n",
       "    </tr>\n",
       "    <tr>\n",
       "      <th class=\"index_name level0\" >income_level</th>\n",
       "      <th class=\"blank col0\" >&nbsp;</th>\n",
       "      <th class=\"blank col1\" >&nbsp;</th>\n",
       "      <th class=\"blank col2\" >&nbsp;</th>\n",
       "    </tr>\n",
       "  </thead>\n",
       "  <tbody>\n",
       "    <tr>\n",
       "      <th id=\"T_036b4_level0_row0\" class=\"row_heading level0 row0\" >(20666.0, 119251.0]</th>\n",
       "      <td id=\"T_036b4_row0_col0\" class=\"data row0 col0\" >7099</td>\n",
       "      <td id=\"T_036b4_row0_col1\" class=\"data row0 col1\" >575</td>\n",
       "      <td id=\"T_036b4_row0_col2\" class=\"data row0 col2\" >8.10%</td>\n",
       "    </tr>\n",
       "    <tr>\n",
       "      <th id=\"T_036b4_level0_row1\" class=\"row_heading level0 row1\" >(119251.0, 172357.0]</th>\n",
       "      <td id=\"T_036b4_row1_col0\" class=\"data row1 col0\" >7252</td>\n",
       "      <td id=\"T_036b4_row1_col1\" class=\"data row1 col1\" >624</td>\n",
       "      <td id=\"T_036b4_row1_col2\" class=\"data row1 col2\" >8.60%</td>\n",
       "    </tr>\n",
       "    <tr>\n",
       "      <th id=\"T_036b4_level0_row2\" class=\"row_heading level0 row2\" >(172357.0, 2265604.0]</th>\n",
       "      <td id=\"T_036b4_row2_col0\" class=\"data row2 col0\" >6945</td>\n",
       "      <td id=\"T_036b4_row2_col1\" class=\"data row2 col1\" >523</td>\n",
       "      <td id=\"T_036b4_row2_col2\" class=\"data row2 col2\" >7.53%</td>\n",
       "    </tr>\n",
       "  </tbody>\n",
       "</table>\n"
      ],
      "text/plain": [
       "<pandas.io.formats.style.Styler at 0x1cf8365df00>"
      ]
     },
     "metadata": {},
     "output_type": "display_data"
    },
    {
     "data": {
      "text/html": [
       "<style type=\"text/css\">\n",
       "#T_22300_row0_col2 {\n",
       "  background-color: #fb7050;\n",
       "  color: #f1f1f1;\n",
       "}\n",
       "#T_22300_row1_col2 {\n",
       "  background-color: #67000d;\n",
       "  color: #f1f1f1;\n",
       "}\n",
       "#T_22300_row2_col2 {\n",
       "  background-color: #b81419;\n",
       "  color: #f1f1f1;\n",
       "}\n",
       "#T_22300_row3_col2 {\n",
       "  background-color: #fff5f0;\n",
       "  color: #000000;\n",
       "}\n",
       "</style>\n",
       "<table id=\"T_22300\">\n",
       "  <thead>\n",
       "    <tr>\n",
       "      <th class=\"blank level0\" >&nbsp;</th>\n",
       "      <th id=\"T_22300_level0_col0\" class=\"col_heading level0 col0\" >Всего кредитополучателей</th>\n",
       "      <th id=\"T_22300_level0_col1\" class=\"col_heading level0 col1\" >Всего должников</th>\n",
       "      <th id=\"T_22300_level0_col2\" class=\"col_heading level0 col2\" >Доля должников</th>\n",
       "    </tr>\n",
       "    <tr>\n",
       "      <th class=\"index_name level0\" >income_level</th>\n",
       "      <th class=\"blank col0\" >&nbsp;</th>\n",
       "      <th class=\"blank col1\" >&nbsp;</th>\n",
       "      <th class=\"blank col2\" >&nbsp;</th>\n",
       "    </tr>\n",
       "  </thead>\n",
       "  <tbody>\n",
       "    <tr>\n",
       "      <th id=\"T_22300_level0_row0\" class=\"row_heading level0 row0\" >(20666.0, 107787.0]</th>\n",
       "      <td id=\"T_22300_row0_col0\" class=\"data row0 col0\" >5324</td>\n",
       "      <td id=\"T_22300_row0_col1\" class=\"data row0 col1\" >423</td>\n",
       "      <td id=\"T_22300_row0_col2\" class=\"data row0 col2\" >7.95%</td>\n",
       "    </tr>\n",
       "    <tr>\n",
       "      <th id=\"T_22300_level0_row1\" class=\"row_heading level0 row1\" >(107787.0, 142594.0]</th>\n",
       "      <td id=\"T_22300_row1_col0\" class=\"data row1 col0\" >5465</td>\n",
       "      <td id=\"T_22300_row1_col1\" class=\"data row1 col1\" >478</td>\n",
       "      <td id=\"T_22300_row1_col2\" class=\"data row1 col2\" >8.75%</td>\n",
       "    </tr>\n",
       "    <tr>\n",
       "      <th id=\"T_22300_level0_row2\" class=\"row_heading level0 row2\" >(142594.0, 195538.0]</th>\n",
       "      <td id=\"T_22300_row2_col0\" class=\"data row2 col0\" >5183</td>\n",
       "      <td id=\"T_22300_row2_col1\" class=\"data row2 col1\" >438</td>\n",
       "      <td id=\"T_22300_row2_col2\" class=\"data row2 col2\" >8.45%</td>\n",
       "    </tr>\n",
       "    <tr>\n",
       "      <th id=\"T_22300_level0_row3\" class=\"row_heading level0 row3\" >(195538.0, 2265604.0]</th>\n",
       "      <td id=\"T_22300_row3_col0\" class=\"data row3 col0\" >5324</td>\n",
       "      <td id=\"T_22300_row3_col1\" class=\"data row3 col1\" >383</td>\n",
       "      <td id=\"T_22300_row3_col2\" class=\"data row3 col2\" >7.19%</td>\n",
       "    </tr>\n",
       "  </tbody>\n",
       "</table>\n"
      ],
      "text/plain": [
       "<pandas.io.formats.style.Styler at 0x1cf8392ff70>"
      ]
     },
     "metadata": {},
     "output_type": "display_data"
    },
    {
     "data": {
      "text/html": [
       "<style type=\"text/css\">\n",
       "#T_d542e_row0_col2 {\n",
       "  background-color: #f24633;\n",
       "  color: #f1f1f1;\n",
       "}\n",
       "#T_d542e_row1_col2 {\n",
       "  background-color: #c1161b;\n",
       "  color: #f1f1f1;\n",
       "}\n",
       "#T_d542e_row2_col2 {\n",
       "  background-color: #67000d;\n",
       "  color: #f1f1f1;\n",
       "}\n",
       "#T_d542e_row3_col2 {\n",
       "  background-color: #c4161c;\n",
       "  color: #f1f1f1;\n",
       "}\n",
       "#T_d542e_row4_col2 {\n",
       "  background-color: #fff5f0;\n",
       "  color: #000000;\n",
       "}\n",
       "</style>\n",
       "<table id=\"T_d542e\">\n",
       "  <thead>\n",
       "    <tr>\n",
       "      <th class=\"blank level0\" >&nbsp;</th>\n",
       "      <th id=\"T_d542e_level0_col0\" class=\"col_heading level0 col0\" >Всего кредитополучателей</th>\n",
       "      <th id=\"T_d542e_level0_col1\" class=\"col_heading level0 col1\" >Всего должников</th>\n",
       "      <th id=\"T_d542e_level0_col2\" class=\"col_heading level0 col2\" >Доля должников</th>\n",
       "    </tr>\n",
       "    <tr>\n",
       "      <th class=\"index_name level0\" >income_level</th>\n",
       "      <th class=\"blank col0\" >&nbsp;</th>\n",
       "      <th class=\"blank col1\" >&nbsp;</th>\n",
       "      <th class=\"blank col2\" >&nbsp;</th>\n",
       "    </tr>\n",
       "  </thead>\n",
       "  <tbody>\n",
       "    <tr>\n",
       "      <th id=\"T_d542e_level0_row0\" class=\"row_heading level0 row0\" >(20666.0, 98640.0]</th>\n",
       "      <td id=\"T_d542e_row0_col0\" class=\"data row0 col0\" >4260</td>\n",
       "      <td id=\"T_d542e_row0_col1\" class=\"data row0 col1\" >342</td>\n",
       "      <td id=\"T_d542e_row0_col2\" class=\"data row0 col2\" >8.03%</td>\n",
       "    </tr>\n",
       "    <tr>\n",
       "      <th id=\"T_d542e_level0_row1\" class=\"row_heading level0 row1\" >(98640.0, 132161.0]</th>\n",
       "      <td id=\"T_d542e_row1_col0\" class=\"data row1 col0\" >4259</td>\n",
       "      <td id=\"T_d542e_row1_col1\" class=\"data row1 col1\" >355</td>\n",
       "      <td id=\"T_d542e_row1_col2\" class=\"data row1 col2\" >8.34%</td>\n",
       "    </tr>\n",
       "    <tr>\n",
       "      <th id=\"T_d542e_level0_row2\" class=\"row_heading level0 row2\" >(132161.0, 161158.0]</th>\n",
       "      <td id=\"T_d542e_row2_col0\" class=\"data row2 col0\" >4260</td>\n",
       "      <td id=\"T_d542e_row2_col1\" class=\"data row2 col1\" >370</td>\n",
       "      <td id=\"T_d542e_row2_col2\" class=\"data row2 col2\" >8.69%</td>\n",
       "    </tr>\n",
       "    <tr>\n",
       "      <th id=\"T_d542e_level0_row3\" class=\"row_heading level0 row3\" >(161158.0, 214145.0]</th>\n",
       "      <td id=\"T_d542e_row3_col0\" class=\"data row3 col0\" >4258</td>\n",
       "      <td id=\"T_d542e_row3_col1\" class=\"data row3 col1\" >354</td>\n",
       "      <td id=\"T_d542e_row3_col2\" class=\"data row3 col2\" >8.31%</td>\n",
       "    </tr>\n",
       "    <tr>\n",
       "      <th id=\"T_d542e_level0_row4\" class=\"row_heading level0 row4\" >(214145.0, 2265604.0]</th>\n",
       "      <td id=\"T_d542e_row4_col0\" class=\"data row4 col0\" >4259</td>\n",
       "      <td id=\"T_d542e_row4_col1\" class=\"data row4 col1\" >301</td>\n",
       "      <td id=\"T_d542e_row4_col2\" class=\"data row4 col2\" >7.07%</td>\n",
       "    </tr>\n",
       "  </tbody>\n",
       "</table>\n"
      ],
      "text/plain": [
       "<pandas.io.formats.style.Styler at 0x1cf8287e830>"
      ]
     },
     "metadata": {},
     "output_type": "display_data"
    },
    {
     "data": {
      "text/html": [
       "<style type=\"text/css\">\n",
       "#T_88bd6_row0_col2 {\n",
       "  background-color: #f96346;\n",
       "  color: #f1f1f1;\n",
       "}\n",
       "#T_88bd6_row1_col2 {\n",
       "  background-color: #ec382b;\n",
       "  color: #f1f1f1;\n",
       "}\n",
       "#T_88bd6_row2_col2 {\n",
       "  background-color: #67000d;\n",
       "  color: #f1f1f1;\n",
       "}\n",
       "#T_88bd6_row3_col2 {\n",
       "  background-color: #d11e1f;\n",
       "  color: #f1f1f1;\n",
       "}\n",
       "#T_88bd6_row4_col2 {\n",
       "  background-color: #fa6648;\n",
       "  color: #f1f1f1;\n",
       "}\n",
       "#T_88bd6_row5_col2 {\n",
       "  background-color: #fff5f0;\n",
       "  color: #000000;\n",
       "}\n",
       "</style>\n",
       "<table id=\"T_88bd6\">\n",
       "  <thead>\n",
       "    <tr>\n",
       "      <th class=\"blank level0\" >&nbsp;</th>\n",
       "      <th id=\"T_88bd6_level0_col0\" class=\"col_heading level0 col0\" >Всего кредитополучателей</th>\n",
       "      <th id=\"T_88bd6_level0_col1\" class=\"col_heading level0 col1\" >Всего должников</th>\n",
       "      <th id=\"T_88bd6_level0_col2\" class=\"col_heading level0 col2\" >Доля должников</th>\n",
       "    </tr>\n",
       "    <tr>\n",
       "      <th class=\"index_name level0\" >income_level</th>\n",
       "      <th class=\"blank col0\" >&nbsp;</th>\n",
       "      <th class=\"blank col1\" >&nbsp;</th>\n",
       "      <th class=\"blank col2\" >&nbsp;</th>\n",
       "    </tr>\n",
       "  </thead>\n",
       "  <tbody>\n",
       "    <tr>\n",
       "      <th id=\"T_88bd6_level0_row0\" class=\"row_heading level0 row0\" >(20666.0, 92278.0]</th>\n",
       "      <td id=\"T_88bd6_row0_col0\" class=\"data row0 col0\" >3550</td>\n",
       "      <td id=\"T_88bd6_row0_col1\" class=\"data row0 col1\" >284</td>\n",
       "      <td id=\"T_88bd6_row0_col2\" class=\"data row0 col2\" >8.00%</td>\n",
       "    </tr>\n",
       "    <tr>\n",
       "      <th id=\"T_88bd6_level0_row1\" class=\"row_heading level0 row1\" >(92278.0, 119251.0]</th>\n",
       "      <td id=\"T_88bd6_row1_col0\" class=\"data row1 col0\" >3549</td>\n",
       "      <td id=\"T_88bd6_row1_col1\" class=\"data row1 col1\" >291</td>\n",
       "      <td id=\"T_88bd6_row1_col2\" class=\"data row1 col2\" >8.20%</td>\n",
       "    </tr>\n",
       "    <tr>\n",
       "      <th id=\"T_88bd6_level0_row2\" class=\"row_heading level0 row2\" >(119251.0, 142594.0]</th>\n",
       "      <td id=\"T_88bd6_row2_col0\" class=\"data row2 col0\" >3690</td>\n",
       "      <td id=\"T_88bd6_row2_col1\" class=\"data row2 col1\" >326</td>\n",
       "      <td id=\"T_88bd6_row2_col2\" class=\"data row2 col2\" >8.83%</td>\n",
       "    </tr>\n",
       "    <tr>\n",
       "      <th id=\"T_88bd6_level0_row3\" class=\"row_heading level0 row3\" >(142594.0, 172357.0]</th>\n",
       "      <td id=\"T_88bd6_row3_col0\" class=\"data row3 col0\" >3562</td>\n",
       "      <td id=\"T_88bd6_row3_col1\" class=\"data row3 col1\" >298</td>\n",
       "      <td id=\"T_88bd6_row3_col2\" class=\"data row3 col2\" >8.37%</td>\n",
       "    </tr>\n",
       "    <tr>\n",
       "      <th id=\"T_88bd6_level0_row4\" class=\"row_heading level0 row4\" >(172357.0, 228604.0]</th>\n",
       "      <td id=\"T_88bd6_row4_col0\" class=\"data row4 col0\" >3395</td>\n",
       "      <td id=\"T_88bd6_row4_col1\" class=\"data row4 col1\" >271</td>\n",
       "      <td id=\"T_88bd6_row4_col2\" class=\"data row4 col2\" >7.98%</td>\n",
       "    </tr>\n",
       "    <tr>\n",
       "      <th id=\"T_88bd6_level0_row5\" class=\"row_heading level0 row5\" >(228604.0, 2265604.0]</th>\n",
       "      <td id=\"T_88bd6_row5_col0\" class=\"data row5 col0\" >3550</td>\n",
       "      <td id=\"T_88bd6_row5_col1\" class=\"data row5 col1\" >252</td>\n",
       "      <td id=\"T_88bd6_row5_col2\" class=\"data row5 col2\" >7.10%</td>\n",
       "    </tr>\n",
       "  </tbody>\n",
       "</table>\n"
      ],
      "text/plain": [
       "<pandas.io.formats.style.Styler at 0x1cf8392f3a0>"
      ]
     },
     "metadata": {},
     "output_type": "display_data"
    },
    {
     "data": {
      "text/html": [
       "<style type=\"text/css\">\n",
       "#T_a8905_row0_col2 {\n",
       "  background-color: #fc9070;\n",
       "  color: #000000;\n",
       "}\n",
       "#T_a8905_row1_col2, #T_a8905_row2_col2 {\n",
       "  background-color: #840711;\n",
       "  color: #f1f1f1;\n",
       "}\n",
       "#T_a8905_row3_col2 {\n",
       "  background-color: #67000d;\n",
       "  color: #f1f1f1;\n",
       "}\n",
       "#T_a8905_row4_col2 {\n",
       "  background-color: #ce1a1e;\n",
       "  color: #f1f1f1;\n",
       "}\n",
       "#T_a8905_row5_col2 {\n",
       "  background-color: #f03d2d;\n",
       "  color: #f1f1f1;\n",
       "}\n",
       "#T_a8905_row6_col2 {\n",
       "  background-color: #fff5f0;\n",
       "  color: #000000;\n",
       "}\n",
       "</style>\n",
       "<table id=\"T_a8905\">\n",
       "  <thead>\n",
       "    <tr>\n",
       "      <th class=\"blank level0\" >&nbsp;</th>\n",
       "      <th id=\"T_a8905_level0_col0\" class=\"col_heading level0 col0\" >Всего кредитополучателей</th>\n",
       "      <th id=\"T_a8905_level0_col1\" class=\"col_heading level0 col1\" >Всего должников</th>\n",
       "      <th id=\"T_a8905_level0_col2\" class=\"col_heading level0 col2\" >Доля должников</th>\n",
       "    </tr>\n",
       "    <tr>\n",
       "      <th class=\"index_name level0\" >income_level</th>\n",
       "      <th class=\"blank col0\" >&nbsp;</th>\n",
       "      <th class=\"blank col1\" >&nbsp;</th>\n",
       "      <th class=\"blank col2\" >&nbsp;</th>\n",
       "    </tr>\n",
       "  </thead>\n",
       "  <tbody>\n",
       "    <tr>\n",
       "      <th id=\"T_a8905_level0_row0\" class=\"row_heading level0 row0\" >(20666.0, 87426.0]</th>\n",
       "      <td id=\"T_a8905_row0_col0\" class=\"data row0 col0\" >3043</td>\n",
       "      <td id=\"T_a8905_row0_col1\" class=\"data row0 col1\" >232</td>\n",
       "      <td id=\"T_a8905_row0_col2\" class=\"data row0 col2\" >7.62%</td>\n",
       "    </tr>\n",
       "    <tr>\n",
       "      <th id=\"T_a8905_level0_row1\" class=\"row_heading level0 row1\" >(87426.0, 113757.0]</th>\n",
       "      <td id=\"T_a8905_row1_col0\" class=\"data row1 col0\" >3042</td>\n",
       "      <td id=\"T_a8905_row1_col1\" class=\"data row1 col1\" >260</td>\n",
       "      <td id=\"T_a8905_row1_col2\" class=\"data row1 col2\" >8.55%</td>\n",
       "    </tr>\n",
       "    <tr>\n",
       "      <th id=\"T_a8905_level0_row2\" class=\"row_heading level0 row2\" >(113757.0, 137515.0]</th>\n",
       "      <td id=\"T_a8905_row2_col0\" class=\"data row2 col0\" >3042</td>\n",
       "      <td id=\"T_a8905_row2_col1\" class=\"data row2 col1\" >260</td>\n",
       "      <td id=\"T_a8905_row2_col2\" class=\"data row2 col2\" >8.55%</td>\n",
       "    </tr>\n",
       "    <tr>\n",
       "      <th id=\"T_a8905_level0_row3\" class=\"row_heading level0 row3\" >(137515.0, 154977.0]</th>\n",
       "      <td id=\"T_a8905_row3_col0\" class=\"data row3 col0\" >3042</td>\n",
       "      <td id=\"T_a8905_row3_col1\" class=\"data row3 col1\" >263</td>\n",
       "      <td id=\"T_a8905_row3_col2\" class=\"data row3 col2\" >8.65%</td>\n",
       "    </tr>\n",
       "    <tr>\n",
       "      <th id=\"T_a8905_level0_row4\" class=\"row_heading level0 row4\" >(154977.0, 184175.0]</th>\n",
       "      <td id=\"T_a8905_row4_col0\" class=\"data row4 col0\" >3042</td>\n",
       "      <td id=\"T_a8905_row4_col1\" class=\"data row4 col1\" >250</td>\n",
       "      <td id=\"T_a8905_row4_col2\" class=\"data row4 col2\" >8.22%</td>\n",
       "    </tr>\n",
       "    <tr>\n",
       "      <th id=\"T_a8905_level0_row5\" class=\"row_heading level0 row5\" >(184175.0, 241746.0]</th>\n",
       "      <td id=\"T_a8905_row5_col0\" class=\"data row5 col0\" >3042</td>\n",
       "      <td id=\"T_a8905_row5_col1\" class=\"data row5 col1\" >244</td>\n",
       "      <td id=\"T_a8905_row5_col2\" class=\"data row5 col2\" >8.02%</td>\n",
       "    </tr>\n",
       "    <tr>\n",
       "      <th id=\"T_a8905_level0_row6\" class=\"row_heading level0 row6\" >(241746.0, 2265604.0]</th>\n",
       "      <td id=\"T_a8905_row6_col0\" class=\"data row6 col0\" >3043</td>\n",
       "      <td id=\"T_a8905_row6_col1\" class=\"data row6 col1\" >213</td>\n",
       "      <td id=\"T_a8905_row6_col2\" class=\"data row6 col2\" >7.00%</td>\n",
       "    </tr>\n",
       "  </tbody>\n",
       "</table>\n"
      ],
      "text/plain": [
       "<pandas.io.formats.style.Styler at 0x1cf8389a170>"
      ]
     },
     "metadata": {},
     "output_type": "display_data"
    },
    {
     "data": {
      "text/html": [
       "<style type=\"text/css\">\n",
       "#T_a2cfe_row0_col2 {\n",
       "  background-color: #fc8d6d;\n",
       "  color: #f1f1f1;\n",
       "}\n",
       "#T_a2cfe_row1_col2, #T_a2cfe_row5_col2 {\n",
       "  background-color: #d92523;\n",
       "  color: #f1f1f1;\n",
       "}\n",
       "#T_a2cfe_row2_col2 {\n",
       "  background-color: #77040f;\n",
       "  color: #f1f1f1;\n",
       "}\n",
       "#T_a2cfe_row3_col2 {\n",
       "  background-color: #67000d;\n",
       "  color: #f1f1f1;\n",
       "}\n",
       "#T_a2cfe_row4_col2 {\n",
       "  background-color: #7e0610;\n",
       "  color: #f1f1f1;\n",
       "}\n",
       "#T_a2cfe_row6_col2 {\n",
       "  background-color: #fcb69b;\n",
       "  color: #000000;\n",
       "}\n",
       "#T_a2cfe_row7_col2 {\n",
       "  background-color: #fff5f0;\n",
       "  color: #000000;\n",
       "}\n",
       "</style>\n",
       "<table id=\"T_a2cfe\">\n",
       "  <thead>\n",
       "    <tr>\n",
       "      <th class=\"blank level0\" >&nbsp;</th>\n",
       "      <th id=\"T_a2cfe_level0_col0\" class=\"col_heading level0 col0\" >Всего кредитополучателей</th>\n",
       "      <th id=\"T_a2cfe_level0_col1\" class=\"col_heading level0 col1\" >Всего должников</th>\n",
       "      <th id=\"T_a2cfe_level0_col2\" class=\"col_heading level0 col2\" >Доля должников</th>\n",
       "    </tr>\n",
       "    <tr>\n",
       "      <th class=\"index_name level0\" >income_level</th>\n",
       "      <th class=\"blank col0\" >&nbsp;</th>\n",
       "      <th class=\"blank col1\" >&nbsp;</th>\n",
       "      <th class=\"blank col2\" >&nbsp;</th>\n",
       "    </tr>\n",
       "  </thead>\n",
       "  <tbody>\n",
       "    <tr>\n",
       "      <th id=\"T_a2cfe_level0_row0\" class=\"row_heading level0 row0\" >(20666.0, 83955.0]</th>\n",
       "      <td id=\"T_a2cfe_row0_col0\" class=\"data row0 col0\" >2662</td>\n",
       "      <td id=\"T_a2cfe_row0_col1\" class=\"data row0 col1\" >204</td>\n",
       "      <td id=\"T_a2cfe_row0_col2\" class=\"data row0 col2\" >7.66%</td>\n",
       "    </tr>\n",
       "    <tr>\n",
       "      <th id=\"T_a2cfe_level0_row1\" class=\"row_heading level0 row1\" >(83955.0, 107787.0]</th>\n",
       "      <td id=\"T_a2cfe_row1_col0\" class=\"data row1 col0\" >2662</td>\n",
       "      <td id=\"T_a2cfe_row1_col1\" class=\"data row1 col1\" >219</td>\n",
       "      <td id=\"T_a2cfe_row1_col2\" class=\"data row1 col2\" >8.23%</td>\n",
       "    </tr>\n",
       "    <tr>\n",
       "      <th id=\"T_a2cfe_level0_row2\" class=\"row_heading level0 row2\" >(107787.0, 127585.0]</th>\n",
       "      <td id=\"T_a2cfe_row2_col0\" class=\"data row2 col0\" >2662</td>\n",
       "      <td id=\"T_a2cfe_row2_col1\" class=\"data row2 col1\" >232</td>\n",
       "      <td id=\"T_a2cfe_row2_col2\" class=\"data row2 col2\" >8.72%</td>\n",
       "    </tr>\n",
       "    <tr>\n",
       "      <th id=\"T_a2cfe_level0_row3\" class=\"row_heading level0 row3\" >(127585.0, 142594.0]</th>\n",
       "      <td id=\"T_a2cfe_row3_col0\" class=\"data row3 col0\" >2803</td>\n",
       "      <td id=\"T_a2cfe_row3_col1\" class=\"data row3 col1\" >246</td>\n",
       "      <td id=\"T_a2cfe_row3_col2\" class=\"data row3 col2\" >8.78%</td>\n",
       "    </tr>\n",
       "    <tr>\n",
       "      <th id=\"T_a2cfe_level0_row4\" class=\"row_heading level0 row4\" >(142594.0, 166344.0]</th>\n",
       "      <td id=\"T_a2cfe_row4_col0\" class=\"data row4 col0\" >2521</td>\n",
       "      <td id=\"T_a2cfe_row4_col1\" class=\"data row4 col1\" >219</td>\n",
       "      <td id=\"T_a2cfe_row4_col2\" class=\"data row4 col2\" >8.69%</td>\n",
       "    </tr>\n",
       "    <tr>\n",
       "      <th id=\"T_a2cfe_level0_row5\" class=\"row_heading level0 row5\" >(166344.0, 195538.0]</th>\n",
       "      <td id=\"T_a2cfe_row5_col0\" class=\"data row5 col0\" >2662</td>\n",
       "      <td id=\"T_a2cfe_row5_col1\" class=\"data row5 col1\" >219</td>\n",
       "      <td id=\"T_a2cfe_row5_col2\" class=\"data row5 col2\" >8.23%</td>\n",
       "    </tr>\n",
       "    <tr>\n",
       "      <th id=\"T_a2cfe_level0_row6\" class=\"row_heading level0 row6\" >(195538.0, 253990.0]</th>\n",
       "      <td id=\"T_a2cfe_row6_col0\" class=\"data row6 col0\" >2662</td>\n",
       "      <td id=\"T_a2cfe_row6_col1\" class=\"data row6 col1\" >198</td>\n",
       "      <td id=\"T_a2cfe_row6_col2\" class=\"data row6 col2\" >7.44%</td>\n",
       "    </tr>\n",
       "    <tr>\n",
       "      <th id=\"T_a2cfe_level0_row7\" class=\"row_heading level0 row7\" >(253990.0, 2265604.0]</th>\n",
       "      <td id=\"T_a2cfe_row7_col0\" class=\"data row7 col0\" >2662</td>\n",
       "      <td id=\"T_a2cfe_row7_col1\" class=\"data row7 col1\" >185</td>\n",
       "      <td id=\"T_a2cfe_row7_col2\" class=\"data row7 col2\" >6.95%</td>\n",
       "    </tr>\n",
       "  </tbody>\n",
       "</table>\n"
      ],
      "text/plain": [
       "<pandas.io.formats.style.Styler at 0x1cf83837ac0>"
      ]
     },
     "metadata": {},
     "output_type": "display_data"
    }
   ],
   "source": [
    "for i in range(3, 9):\n",
    "    data['income_level'] = pd.qcut(data['total_income'], q=i, precision=0)\n",
    "    pivot_table_calc(data, 'income_level')"
   ]
  },
  {
   "cell_type": "markdown",
   "id": "b234b0db-b117-4084-b07f-fe2095c8fd59",
   "metadata": {},
   "source": [
    "**Вывод:**\n",
    "<p>Мы можем предположить, что клиенты с маленьким доходом и клиенты большим платят исправнее , тех кто имеет средний доход</p>"
   ]
  },
  {
   "cell_type": "markdown",
   "id": "8f2d1e68-94ff-48e4-b2f5-e6cf7badcf86",
   "metadata": {
    "tags": []
   },
   "source": [
    "#### Как разные цели кредита влияют на его возврат в срок?"
   ]
  },
  {
   "cell_type": "code",
   "execution_count": 42,
   "id": "f6881ce1-c237-4a38-accc-cf15924eda82",
   "metadata": {
    "tags": []
   },
   "outputs": [
    {
     "data": {
      "image/png": "[encoded data removed]",
      "text/plain": [
       "<Figure size 1500x500 with 1 Axes>"
      ]
     },
     "metadata": {},
     "output_type": "display_data"
    }
   ],
   "source": [
    "bar_plot(data, 'purpose_category', \n",
    "         title='Зависимость просрочек кредита от цели',\n",
    "         xlabel='Цель кредита',\n",
    "         ylabel='Количество'\n",
    "        )"
   ]
  },
  {
   "cell_type": "code",
   "execution_count": 43,
   "id": "edbcae80-855e-458d-b30e-44d1c56bcd17",
   "metadata": {
    "tags": []
   },
   "outputs": [
    {
     "data": {
      "text/html": [
       "<style type=\"text/css\">\n",
       "#T_2ca8f_row0_col2 {\n",
       "  background-color: #67000d;\n",
       "  color: #f1f1f1;\n",
       "}\n",
       "#T_2ca8f_row1_col2 {\n",
       "  background-color: #fff5f0;\n",
       "  color: #000000;\n",
       "}\n",
       "#T_2ca8f_row2_col2 {\n",
       "  background-color: #69000d;\n",
       "  color: #f1f1f1;\n",
       "}\n",
       "#T_2ca8f_row3_col2 {\n",
       "  background-color: #fcb398;\n",
       "  color: #000000;\n",
       "}\n",
       "</style>\n",
       "<table id=\"T_2ca8f\">\n",
       "  <thead>\n",
       "    <tr>\n",
       "      <th class=\"blank level0\" >&nbsp;</th>\n",
       "      <th id=\"T_2ca8f_level0_col0\" class=\"col_heading level0 col0\" >Всего кредитополучателей</th>\n",
       "      <th id=\"T_2ca8f_level0_col1\" class=\"col_heading level0 col1\" >Всего должников</th>\n",
       "      <th id=\"T_2ca8f_level0_col2\" class=\"col_heading level0 col2\" >Доля должников</th>\n",
       "    </tr>\n",
       "    <tr>\n",
       "      <th class=\"index_name level0\" >purpose_category</th>\n",
       "      <th class=\"blank col0\" >&nbsp;</th>\n",
       "      <th class=\"blank col1\" >&nbsp;</th>\n",
       "      <th class=\"blank col2\" >&nbsp;</th>\n",
       "    </tr>\n",
       "  </thead>\n",
       "  <tbody>\n",
       "    <tr>\n",
       "      <th id=\"T_2ca8f_level0_row0\" class=\"row_heading level0 row0\" >операции с автомобилем</th>\n",
       "      <td id=\"T_2ca8f_row0_col0\" class=\"data row0 col0\" >4266</td>\n",
       "      <td id=\"T_2ca8f_row0_col1\" class=\"data row0 col1\" >396</td>\n",
       "      <td id=\"T_2ca8f_row0_col2\" class=\"data row0 col2\" >9.28%</td>\n",
       "    </tr>\n",
       "    <tr>\n",
       "      <th id=\"T_2ca8f_level0_row1\" class=\"row_heading level0 row1\" >операции с недвижимостью</th>\n",
       "      <td id=\"T_2ca8f_row1_col0\" class=\"data row1 col0\" >10729</td>\n",
       "      <td id=\"T_2ca8f_row1_col1\" class=\"data row1 col1\" >776</td>\n",
       "      <td id=\"T_2ca8f_row1_col2\" class=\"data row1 col2\" >7.23%</td>\n",
       "    </tr>\n",
       "    <tr>\n",
       "      <th id=\"T_2ca8f_level0_row2\" class=\"row_heading level0 row2\" >получение образования</th>\n",
       "      <td id=\"T_2ca8f_row2_col0\" class=\"data row2 col0\" >3979</td>\n",
       "      <td id=\"T_2ca8f_row2_col1\" class=\"data row2 col1\" >369</td>\n",
       "      <td id=\"T_2ca8f_row2_col2\" class=\"data row2 col2\" >9.27%</td>\n",
       "    </tr>\n",
       "    <tr>\n",
       "      <th id=\"T_2ca8f_level0_row3\" class=\"row_heading level0 row3\" >проведение свадьбы</th>\n",
       "      <td id=\"T_2ca8f_row3_col0\" class=\"data row3 col0\" >2322</td>\n",
       "      <td id=\"T_2ca8f_row3_col1\" class=\"data row3 col1\" >181</td>\n",
       "      <td id=\"T_2ca8f_row3_col2\" class=\"data row3 col2\" >7.80%</td>\n",
       "    </tr>\n",
       "  </tbody>\n",
       "</table>\n"
      ],
      "text/plain": [
       "<pandas.io.formats.style.Styler at 0x1cf839a5ea0>"
      ]
     },
     "metadata": {},
     "output_type": "display_data"
    }
   ],
   "source": [
    "pivot_table_calc(data, 'purpose_category')"
   ]
  },
  {
   "cell_type": "markdown",
   "id": "4cc6ba7b-af95-4fcb-afd5-1371c0c2d589",
   "metadata": {
    "tags": []
   },
   "source": [
    "**Вывод:** "
   ]
  },
  {
   "cell_type": "markdown",
   "id": "af1f188d-6864-4d7a-8136-99d8b57a7bab",
   "metadata": {
    "tags": []
   },
   "source": [
    "Мы можем предположить, что кредиты на недвижимость и проведение свадьбы чаще выплачиваются вовремя, чем кредиты на авто и образование"
   ]
  },
  {
   "cell_type": "markdown",
   "id": "6adebac5-ab67-4aac-a11c-a2348c1e6943",
   "metadata": {
    "tags": []
   },
   "source": [
    "## Общий вывод."
   ]
  },
  {
   "cell_type": "markdown",
   "id": "70f6da21-5ba3-4640-8c43-23efa2933e61",
   "metadata": {
    "tags": []
   },
   "source": [
    "Мы обработали данные и установили:\n",
    "\n",
    "* В двух переменных имеются пропущенные значения(`days_employed`, `total_income`), возможно это человеческий фактор: \"Нежелание сообщать о своем доходе и опыте работы\"\n",
    "\n",
    "* В столбцах `children`, `days_employed` и `dob_years` обнаружены аномальные значения, вероятно из-за ошибки ввода данных\n",
    "\n",
    "* В столбце `education` записаны одни и теже данные в разном регистре\n",
    "\n",
    "* Были добавлены новые переменные: `age_cat`, `total_income_category`, `purpose_category`, `has_children` и `income_level` \n",
    "\n",
    "Проверили четыре гипотезы и установили:\n",
    "\n",
    "* Клиенты с детьми имеют большую вероятность неуплаты кредита в срок\n",
    "\n",
    "* У неженатых/незамужних клиентов и проживающих в гражданском браке вероятность просрочки платежа по кредиту выше\n",
    "\n",
    "* Клиенты с высоким доходом с более высокой вероятностью платят по кредиту в срок\n",
    "\n",
    "* Автокредиты и кредиты на образование имеют больше задолженностей чем по остальным категориям"
   ]
  },
  {
   "cell_type": "code",
   "execution_count": null,
   "id": "e8f1182c-4973-4691-a5e1-257a1435bdd1",
   "metadata": {},
   "outputs": [],
   "source": []
  }
 ],
 "metadata": {
  "kernelspec": {
   "display_name": "Python 3 (ipykernel)",
   "language": "python",
   "name": "python3"
  },
  "language_info": {
   "codemirror_mode": {
    "name": "ipython",
    "version": 3
   },
   "file_extension": ".py",
   "mimetype": "text/x-python",
   "name": "python",
   "nbconvert_exporter": "python",
   "pygments_lexer": "ipython3",
   "version": "3.10.13"
  }
 },
 "nbformat": 4,
 "nbformat_minor": 5
}
